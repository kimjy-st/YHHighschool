{
  "nbformat": 4,
  "nbformat_minor": 0,
  "metadata": {
    "colab": {
      "provenance": [],
      "gpuType": "T4"
    },
    "kernelspec": {
      "name": "python3",
      "display_name": "Python 3"
    },
    "language_info": {
      "name": "python"
    },
    "accelerator": "GPU"
  },
  "cells": [
    {
      "cell_type": "markdown",
      "source": [
        "## 1. 필요한 모듈 임포트"
      ],
      "metadata": {
        "id": "RW-h3qjjtF2Z"
      }
    },
    {
      "cell_type": "code",
      "source": [
        "import numpy as np\n",
        "import matplotlib.pyplot as plt\n",
        "\n",
        "import torch\n",
        "import torch.nn as nn\n",
        "import torch.nn.functional as F\n",
        "from torchvision import transforms, datasets"
      ],
      "metadata": {
        "id": "V50XdOoKqOgG"
      },
      "execution_count": null,
      "outputs": []
    },
    {
      "cell_type": "code",
      "source": [
        "BATCH_SIZE =\n",
        "EPOCHS =\n",
        "DEVICE = 'cuda'\n",
        "LR ="
      ],
      "metadata": {
        "id": "OW9ovkdxrpom"
      },
      "execution_count": null,
      "outputs": []
    },
    {
      "cell_type": "markdown",
      "source": [
        "## 2. Load dataset\n",
        "- 데이터세트 다운로드\n",
        "- 데이터세트 정보\n",
        "- 예시"
      ],
      "metadata": {
        "id": "R7uA7ovGr3D8"
      }
    },
    {
      "cell_type": "code",
      "execution_count": null,
      "metadata": {
        "colab": {
          "base_uri": "https://localhost:8080/",
          "height": 824
        },
        "id": "bt1JUjc0qGeF",
        "outputId": "016877f8-6522-4f8c-ad73-bb97cd1e0e04"
      },
      "outputs": [
        {
          "output_type": "stream",
          "name": "stdout",
          "text": [
            "Downloading http://yann.lecun.com/exdb/mnist/train-images-idx3-ubyte.gz\n",
            "Failed to download (trying next):\n",
            "HTTP Error 403: Forbidden\n",
            "\n",
            "Downloading https://ossci-datasets.s3.amazonaws.com/mnist/train-images-idx3-ubyte.gz\n",
            "Downloading https://ossci-datasets.s3.amazonaws.com/mnist/train-images-idx3-ubyte.gz to ../data/MNIST/MNIST/raw/train-images-idx3-ubyte.gz\n"
          ]
        },
        {
          "output_type": "stream",
          "name": "stderr",
          "text": [
            "100%|██████████| 9.91M/9.91M [00:10<00:00, 901kB/s] \n"
          ]
        },
        {
          "output_type": "stream",
          "name": "stdout",
          "text": [
            "Extracting ../data/MNIST/MNIST/raw/train-images-idx3-ubyte.gz to ../data/MNIST/MNIST/raw\n",
            "\n",
            "Downloading http://yann.lecun.com/exdb/mnist/train-labels-idx1-ubyte.gz\n",
            "Failed to download (trying next):\n",
            "HTTP Error 403: Forbidden\n",
            "\n",
            "Downloading https://ossci-datasets.s3.amazonaws.com/mnist/train-labels-idx1-ubyte.gz\n",
            "Downloading https://ossci-datasets.s3.amazonaws.com/mnist/train-labels-idx1-ubyte.gz to ../data/MNIST/MNIST/raw/train-labels-idx1-ubyte.gz\n"
          ]
        },
        {
          "output_type": "stream",
          "name": "stderr",
          "text": [
            "100%|██████████| 28.9k/28.9k [00:00<00:00, 133kB/s]\n"
          ]
        },
        {
          "output_type": "stream",
          "name": "stdout",
          "text": [
            "Extracting ../data/MNIST/MNIST/raw/train-labels-idx1-ubyte.gz to ../data/MNIST/MNIST/raw\n",
            "\n",
            "Downloading http://yann.lecun.com/exdb/mnist/t10k-images-idx3-ubyte.gz\n",
            "Failed to download (trying next):\n",
            "HTTP Error 403: Forbidden\n",
            "\n",
            "Downloading https://ossci-datasets.s3.amazonaws.com/mnist/t10k-images-idx3-ubyte.gz\n",
            "Downloading https://ossci-datasets.s3.amazonaws.com/mnist/t10k-images-idx3-ubyte.gz to ../data/MNIST/MNIST/raw/t10k-images-idx3-ubyte.gz\n"
          ]
        },
        {
          "output_type": "stream",
          "name": "stderr",
          "text": [
            "100%|██████████| 1.65M/1.65M [00:01<00:00, 1.26MB/s]\n"
          ]
        },
        {
          "output_type": "stream",
          "name": "stdout",
          "text": [
            "Extracting ../data/MNIST/MNIST/raw/t10k-images-idx3-ubyte.gz to ../data/MNIST/MNIST/raw\n",
            "\n",
            "Downloading http://yann.lecun.com/exdb/mnist/t10k-labels-idx1-ubyte.gz\n",
            "Failed to download (trying next):\n",
            "HTTP Error 403: Forbidden\n",
            "\n",
            "Downloading https://ossci-datasets.s3.amazonaws.com/mnist/t10k-labels-idx1-ubyte.gz\n",
            "Downloading https://ossci-datasets.s3.amazonaws.com/mnist/t10k-labels-idx1-ubyte.gz to ../data/MNIST/MNIST/raw/t10k-labels-idx1-ubyte.gz\n"
          ]
        },
        {
          "output_type": "stream",
          "name": "stderr",
          "text": [
            "100%|██████████| 4.54k/4.54k [00:00<00:00, 3.28MB/s]\n"
          ]
        },
        {
          "output_type": "stream",
          "name": "stdout",
          "text": [
            "Extracting ../data/MNIST/MNIST/raw/t10k-labels-idx1-ubyte.gz to ../data/MNIST/MNIST/raw\n",
            "\n",
            "X_train: torch.Size([32, 1, 28, 28]) type: torch.FloatTensor\n",
            "y_train: torch.Size([32]) type: torch.LongTensor\n"
          ]
        },
        {
          "output_type": "display_data",
          "data": {
            "text/plain": [
              "<Figure size 1000x100 with 10 Axes>"
            ],
            "image/png": "[encoded data removed]"
          },
          "metadata": {}
        }
      ],
      "source": [
        "train_dataset = datasets.MNIST(root = \"../data/MNIST\",\n",
        "                               train = True,\n",
        "                               download = True,\n",
        "                               transform = transforms.ToTensor())\n",
        "\n",
        "test_dataset = datasets.MNIST(root = \"../data/MNIST\",\n",
        "                              train = False,\n",
        "                              transform = transforms.ToTensor())\n",
        "\n",
        "train_loader = torch.utils.data.DataLoader(dataset = train_dataset,\n",
        "                                           batch_size = BATCH_SIZE,\n",
        "                                           shuffle = True)\n",
        "\n",
        "test_loader = torch.utils.data.DataLoader(dataset = test_dataset,\n",
        "                                          batch_size = BATCH_SIZE,\n",
        "                                          shuffle = False)\n",
        "\n",
        "for (X_train, y_train) in train_loader:\n",
        "    print('X_train:', X_train.size(), 'type:', X_train.type())\n",
        "    print('y_train:', y_train.size(), 'type:', y_train.type())\n",
        "    break\n",
        "\n",
        "pltsize = 1\n",
        "plt.figure(figsize=(10 * pltsize, pltsize)) #10개 plot하기 위한 figure 크기 설정\n",
        "\n",
        "for i in range(10):\n",
        "    plt.subplot(1, 10, i + 1) # plot.subplot(rows, columns, index)\n",
        "    plt.axis('off')\n",
        "    plt.imshow(X_train[i, :, :, :].numpy().reshape(28, 28), cmap = \"gray_r\")\n",
        "    plt.title('Class: ' + str(y_train[i].item()))"
      ]
    },
    {
      "cell_type": "markdown",
      "source": [
        "## 3-1. 인공지능 신경망 (MLP)\n",
        "\n",
        "\n",
        "```\n",
        "nn.Linear(in_channels, out_channels)\n",
        "```\n",
        "\n",
        "\n",
        "```\n",
        "F.sigmoid()\n",
        "F.relu()\n",
        "```\n"
      ],
      "metadata": {
        "id": "SXi321yMsIFk"
      }
    },
    {
      "cell_type": "code",
      "source": [
        "class Net(nn.Module):\n",
        "    def __init__(self):\n",
        "        super(Net, self).__init__()\n",
        "        self.fc1 = nn.Linear(28*28,  ) # 28x28 고정\n",
        "        self.fc2 = nn.Linear(   ,    )\n",
        "        self.fc3 = nn.Linear(   , 10) # 10 고정\n",
        "\n",
        "    def forward(self,x):\n",
        "        x = x.view(-1, 28*28)\n",
        "        x = self.fc1(x)\n",
        "        x = F.sigmoid(x)\n",
        "\n",
        "        x = self.fc2(x)\n",
        "        x = F.sigmoid(x)\n",
        "\n",
        "        x = self.fc3(x)\n",
        "        return x\n",
        "\n",
        "model = Net().to(DEVICE)\n",
        "optimizer = torch.optim.SGD(model.parameters(), lr=LR, momentum=0.5)\n",
        "criterion = nn.CrossEntropyLoss()"
      ],
      "metadata": {
        "id": "XtXKfI-RqID3"
      },
      "execution_count": null,
      "outputs": []
    },
    {
      "cell_type": "markdown",
      "source": [
        "## 3-2. 인공지능 신경망(CNN)\n",
        "\n",
        "```\n",
        "# 가로 세로 크기 유지\n",
        "nn.Conv2d(in_channels, out_channels, kernel_size = 3, padding = 1, stride = 1)\n",
        "nn.Conv2d(in_channels, out_channels, kernel_size = 5, padding = 2, stride = 1)\n",
        "nn.Conv2d(in_channels, out_channels, kernel_size=7, padding=3, stride=1)\n",
        "```\n",
        "\n",
        "```\n",
        "# 가로 세로 크기 반으로 줄어듦\n",
        "ex : (32, 32) -> (16, 16)\n",
        "nn.Conv2d(in_channels, out_channels, kernel_size=3, padding=1, stride=2)\n",
        "nn.Conv2d(in_channels, out_channels, kernel_size=5, padding=2, stride=2)\n",
        "nn.Conv2d(in_channels, out_channels, kernel_size=1, padding=0, stride=2)\n",
        "```\n",
        "\n",
        "```\n",
        "# 가로 세로 크기 줄이는 방법 (Pooling)\n",
        "# 크기가 1/s 배 됨\n",
        "# Ex : s = 2이면 (32, 32) -> (16, 16)\n",
        "nn.MaxPool2d(kernel_size=s, stride=s)\n",
        "nn.AvgPool2d(kernel_size=s, stride=s)\n",
        "```"
      ],
      "metadata": {
        "id": "oJmmzqWGzz2n"
      }
    },
    {
      "cell_type": "code",
      "source": [
        "import torch\n",
        "import torch.nn as nn\n",
        "import torch.nn.functional as F\n",
        "\n",
        "class CNN(nn.Module):\n",
        "    def __init__(self):\n",
        "        super(CNN, self).__init__()\n",
        "        # Convolutional Block 1: Conv2d -> ReLU -> BatchNorm\n",
        "        self.conv1 = nn.Conv2d(1, 32, kernel_size= , stride=  , padding=  )\n",
        "        self.bn1 = nn.BatchNorm2d(32)\n",
        "\n",
        "        # Convolutional Block 2: Conv2d -> ReLU -> BatchNorm\n",
        "        self.conv2 = nn.Conv2d(32,   , kernel_size=  , stride=  , padding=  )\n",
        "        self.bn2 = nn.BatchNorm2d(  )\n",
        "\n",
        "        # MaxPooling Layer\n",
        "        self.pool = nn.MaxPool2d(kernel_size= , stride= )\n",
        "\n",
        "        # Fully Connected Layers\n",
        "        self.fc1 = nn.Linear( *  *  *  ,    )  # Flattened input\n",
        "        self.fc2 = nn.Linear(    , 10)  # 10 (class labels)\n",
        "\n",
        "\n",
        "    def forward(self, x):\n",
        "        # Convolutional Block 1\n",
        "        x = self.conv1(x)\n",
        "        x = F.relu(x)\n",
        "        x = self.bn1(x)\n",
        "\n",
        "        # Convolutional Block 2\n",
        "        x = self.conv2(x)\n",
        "        x = F.relu(x)\n",
        "        x = self.bn2(x)\n",
        "\n",
        "        # MaxPooling\n",
        "        x = self.pool(x)\n",
        "\n",
        "        # Flatten\n",
        "        x = x.view(x.size(0), -1)\n",
        "\n",
        "        # Fully Connected Layers\n",
        "        x = F.relu(self.fc1(x))\n",
        "        x = self.fc2(x)  # Output layer (no activation for logits)\n",
        "        return x\n",
        "\n",
        "\n",
        "model = CNN().to(DEVICE)\n",
        "optimizer = torch.optim.SGD(model.parameters(), lr=LR, momentum=0.5)\n",
        "criterion = nn.CrossEntropyLoss()"
      ],
      "metadata": {
        "id": "4w_lvPZT0d_M"
      },
      "execution_count": null,
      "outputs": []
    },
    {
      "cell_type": "markdown",
      "source": [
        "## 4. 학습 / 검증 함수"
      ],
      "metadata": {
        "id": "GJMWe4qcu26j"
      }
    },
    {
      "cell_type": "code",
      "source": [
        "# 학습 기록 저장을 위한 리스트\n",
        "train_losses = []\n",
        "train_accuracies = []\n",
        "test_losses = []\n",
        "test_accuracies = []\n",
        "\n",
        "def train(model, train_loader, optimizer, epoch, log_interval=10):\n",
        "    model.train()\n",
        "    correct = 0\n",
        "    running_loss = 0\n",
        "    total = 0\n",
        "\n",
        "    for batch_idx, (image, label) in enumerate(train_loader):\n",
        "        image = image.to(DEVICE)\n",
        "        label = label.to(DEVICE)\n",
        "        optimizer.zero_grad()\n",
        "        output = model(image)\n",
        "        loss = criterion(output, label)\n",
        "        loss.backward()\n",
        "        optimizer.step()\n",
        "\n",
        "        running_loss += loss.item()\n",
        "        total += label.size(0)\n",
        "        prediction = output.max(1, keepdim=True)[1]\n",
        "        correct += prediction.eq(label.view_as(prediction)).sum().item()\n",
        "\n",
        "        if batch_idx % log_interval == 0:\n",
        "            print(\"Train epoch: {} [{}/{} ({:.0f}%)]\\tTrain Loss: {:.6f}\".format(\n",
        "                epoch, batch_idx * len(image),\n",
        "                len(train_loader.dataset), 100. * batch_idx / len(train_loader),\n",
        "                loss.item()))\n",
        "\n",
        "    # 에포크 단위로 평균 손실 및 정확도 계산\n",
        "    avg_loss = running_loss / len(train_loader)\n",
        "    accuracy = 100. * correct / total\n",
        "    train_losses.append(avg_loss)\n",
        "    train_accuracies.append(accuracy)\n",
        "\n",
        "\n",
        "def evaluate(model, test_loader):\n",
        "    model.eval()\n",
        "    test_loss = 0\n",
        "    correct = 0\n",
        "\n",
        "    with torch.no_grad():\n",
        "        for image, label in test_loader:\n",
        "            image = image.to(DEVICE)\n",
        "            label = label.to(DEVICE)\n",
        "            output = model(image)\n",
        "            test_loss += criterion(output, label).item()\n",
        "            prediction = output.max(1, keepdim=True)[1]\n",
        "            correct += prediction.eq(label.view_as(prediction)).sum().item()\n",
        "\n",
        "    test_loss /= (len(test_loader.dataset) / BATCH_SIZE)\n",
        "    accuracy = 100. * correct / len(test_loader.dataset)\n",
        "    test_losses.append(test_loss)\n",
        "    test_accuracies.append(accuracy)\n",
        "    return test_loss, accuracy\n",
        "\n"
      ],
      "metadata": {
        "id": "LF_1xUmXsOKG"
      },
      "execution_count": null,
      "outputs": []
    },
    {
      "cell_type": "markdown",
      "source": [
        "## 5. 학습 반복문"
      ],
      "metadata": {
        "id": "qDAt_P6nu6o1"
      }
    },
    {
      "cell_type": "code",
      "source": [
        "for epoch in range(1, EPOCHS + 1):\n",
        "    train(model, train_loader, optimizer, epoch, log_interval = 200)\n",
        "    test_loss, test_accuracy = evaluate(model, test_loader)\n",
        "    print(\"\\n[EPOCH: {}], \\tTest Loss: {:.4f}, \\tTest Accuracy: {:.2f} %\\n\".format(\n",
        "        epoch, test_loss, test_accuracy))"
      ],
      "metadata": {
        "colab": {
          "base_uri": "https://localhost:8080/"
        },
        "id": "SNsPEzXMs1i5",
        "outputId": "34c134cb-6b88-4bb9-a23b-f0720d2a0f81"
      },
      "execution_count": null,
      "outputs": [
        {
          "output_type": "stream",
          "name": "stdout",
          "text": [
            "Train epoch: 1 [0/60000 (0%)]\tTrain Loss: 2.348852\n",
            "Train epoch: 1 [6400/60000 (11%)]\tTrain Loss: 0.097098\n",
            "Train epoch: 1 [12800/60000 (21%)]\tTrain Loss: 0.050378\n",
            "Train epoch: 1 [19200/60000 (32%)]\tTrain Loss: 0.163431\n",
            "Train epoch: 1 [25600/60000 (43%)]\tTrain Loss: 0.009887\n",
            "Train epoch: 1 [32000/60000 (53%)]\tTrain Loss: 0.087610\n",
            "Train epoch: 1 [38400/60000 (64%)]\tTrain Loss: 0.006796\n",
            "Train epoch: 1 [44800/60000 (75%)]\tTrain Loss: 0.021902\n",
            "Train epoch: 1 [51200/60000 (85%)]\tTrain Loss: 0.009694\n",
            "Train epoch: 1 [57600/60000 (96%)]\tTrain Loss: 0.001636\n",
            "\n",
            "[EPOCH: 1], \tTest Loss: 0.0423, \tTest Accuracy: 98.63 %\n",
            "\n",
            "Train epoch: 2 [0/60000 (0%)]\tTrain Loss: 0.002696\n",
            "Train epoch: 2 [6400/60000 (11%)]\tTrain Loss: 0.061957\n",
            "Train epoch: 2 [12800/60000 (21%)]\tTrain Loss: 0.001909\n",
            "Train epoch: 2 [19200/60000 (32%)]\tTrain Loss: 0.011609\n",
            "Train epoch: 2 [25600/60000 (43%)]\tTrain Loss: 0.020907\n",
            "Train epoch: 2 [32000/60000 (53%)]\tTrain Loss: 0.000494\n",
            "Train epoch: 2 [38400/60000 (64%)]\tTrain Loss: 0.006761\n",
            "Train epoch: 2 [44800/60000 (75%)]\tTrain Loss: 0.041966\n",
            "Train epoch: 2 [51200/60000 (85%)]\tTrain Loss: 0.005699\n",
            "Train epoch: 2 [57600/60000 (96%)]\tTrain Loss: 0.258610\n",
            "\n",
            "[EPOCH: 2], \tTest Loss: 0.0381, \tTest Accuracy: 98.78 %\n",
            "\n",
            "Train epoch: 3 [0/60000 (0%)]\tTrain Loss: 0.000581\n",
            "Train epoch: 3 [6400/60000 (11%)]\tTrain Loss: 0.008363\n",
            "Train epoch: 3 [12800/60000 (21%)]\tTrain Loss: 0.015062\n",
            "Train epoch: 3 [19200/60000 (32%)]\tTrain Loss: 0.014194\n",
            "Train epoch: 3 [25600/60000 (43%)]\tTrain Loss: 0.033186\n",
            "Train epoch: 3 [32000/60000 (53%)]\tTrain Loss: 0.001362\n",
            "Train epoch: 3 [38400/60000 (64%)]\tTrain Loss: 0.000546\n",
            "Train epoch: 3 [44800/60000 (75%)]\tTrain Loss: 0.026245\n",
            "Train epoch: 3 [51200/60000 (85%)]\tTrain Loss: 0.004319\n",
            "Train epoch: 3 [57600/60000 (96%)]\tTrain Loss: 0.006552\n",
            "\n",
            "[EPOCH: 3], \tTest Loss: 0.0329, \tTest Accuracy: 98.99 %\n",
            "\n",
            "Train epoch: 4 [0/60000 (0%)]\tTrain Loss: 0.011169\n",
            "Train epoch: 4 [6400/60000 (11%)]\tTrain Loss: 0.004085\n",
            "Train epoch: 4 [12800/60000 (21%)]\tTrain Loss: 0.002407\n",
            "Train epoch: 4 [19200/60000 (32%)]\tTrain Loss: 0.004586\n",
            "Train epoch: 4 [25600/60000 (43%)]\tTrain Loss: 0.001362\n",
            "Train epoch: 4 [32000/60000 (53%)]\tTrain Loss: 0.000220\n",
            "Train epoch: 4 [38400/60000 (64%)]\tTrain Loss: 0.005676\n",
            "Train epoch: 4 [44800/60000 (75%)]\tTrain Loss: 0.000937\n",
            "Train epoch: 4 [51200/60000 (85%)]\tTrain Loss: 0.005644\n",
            "Train epoch: 4 [57600/60000 (96%)]\tTrain Loss: 0.012120\n",
            "\n",
            "[EPOCH: 4], \tTest Loss: 0.0331, \tTest Accuracy: 98.94 %\n",
            "\n",
            "Train epoch: 5 [0/60000 (0%)]\tTrain Loss: 0.001039\n",
            "Train epoch: 5 [6400/60000 (11%)]\tTrain Loss: 0.000757\n",
            "Train epoch: 5 [12800/60000 (21%)]\tTrain Loss: 0.000366\n",
            "Train epoch: 5 [19200/60000 (32%)]\tTrain Loss: 0.000316\n",
            "Train epoch: 5 [25600/60000 (43%)]\tTrain Loss: 0.000971\n",
            "Train epoch: 5 [32000/60000 (53%)]\tTrain Loss: 0.002160\n",
            "Train epoch: 5 [38400/60000 (64%)]\tTrain Loss: 0.000865\n",
            "Train epoch: 5 [44800/60000 (75%)]\tTrain Loss: 0.000283\n",
            "Train epoch: 5 [51200/60000 (85%)]\tTrain Loss: 0.000741\n",
            "Train epoch: 5 [57600/60000 (96%)]\tTrain Loss: 0.000072\n",
            "\n",
            "[EPOCH: 5], \tTest Loss: 0.0350, \tTest Accuracy: 98.94 %\n",
            "\n",
            "Train epoch: 6 [0/60000 (0%)]\tTrain Loss: 0.001913\n",
            "Train epoch: 6 [6400/60000 (11%)]\tTrain Loss: 0.000797\n",
            "Train epoch: 6 [12800/60000 (21%)]\tTrain Loss: 0.016446\n",
            "Train epoch: 6 [19200/60000 (32%)]\tTrain Loss: 0.002561\n",
            "Train epoch: 6 [25600/60000 (43%)]\tTrain Loss: 0.000663\n",
            "Train epoch: 6 [32000/60000 (53%)]\tTrain Loss: 0.001458\n",
            "Train epoch: 6 [38400/60000 (64%)]\tTrain Loss: 0.000172\n",
            "Train epoch: 6 [44800/60000 (75%)]\tTrain Loss: 0.000307\n",
            "Train epoch: 6 [51200/60000 (85%)]\tTrain Loss: 0.002572\n",
            "Train epoch: 6 [57600/60000 (96%)]\tTrain Loss: 0.000555\n",
            "\n",
            "[EPOCH: 6], \tTest Loss: 0.0294, \tTest Accuracy: 99.12 %\n",
            "\n",
            "Train epoch: 7 [0/60000 (0%)]\tTrain Loss: 0.001431\n",
            "Train epoch: 7 [6400/60000 (11%)]\tTrain Loss: 0.000117\n",
            "Train epoch: 7 [12800/60000 (21%)]\tTrain Loss: 0.001178\n",
            "Train epoch: 7 [19200/60000 (32%)]\tTrain Loss: 0.000112\n",
            "Train epoch: 7 [25600/60000 (43%)]\tTrain Loss: 0.000424\n",
            "Train epoch: 7 [32000/60000 (53%)]\tTrain Loss: 0.000393\n",
            "Train epoch: 7 [38400/60000 (64%)]\tTrain Loss: 0.000974\n",
            "Train epoch: 7 [44800/60000 (75%)]\tTrain Loss: 0.001303\n",
            "Train epoch: 7 [51200/60000 (85%)]\tTrain Loss: 0.000008\n",
            "Train epoch: 7 [57600/60000 (96%)]\tTrain Loss: 0.002270\n",
            "\n",
            "[EPOCH: 7], \tTest Loss: 0.0284, \tTest Accuracy: 99.18 %\n",
            "\n",
            "Train epoch: 8 [0/60000 (0%)]\tTrain Loss: 0.000131\n",
            "Train epoch: 8 [6400/60000 (11%)]\tTrain Loss: 0.000026\n",
            "Train epoch: 8 [12800/60000 (21%)]\tTrain Loss: 0.001091\n",
            "Train epoch: 8 [19200/60000 (32%)]\tTrain Loss: 0.000154\n",
            "Train epoch: 8 [25600/60000 (43%)]\tTrain Loss: 0.000103\n",
            "Train epoch: 8 [32000/60000 (53%)]\tTrain Loss: 0.000045\n",
            "Train epoch: 8 [38400/60000 (64%)]\tTrain Loss: 0.000436\n",
            "Train epoch: 8 [44800/60000 (75%)]\tTrain Loss: 0.000027\n",
            "Train epoch: 8 [51200/60000 (85%)]\tTrain Loss: 0.000586\n",
            "Train epoch: 8 [57600/60000 (96%)]\tTrain Loss: 0.000446\n",
            "\n",
            "[EPOCH: 8], \tTest Loss: 0.0296, \tTest Accuracy: 99.12 %\n",
            "\n",
            "Train epoch: 9 [0/60000 (0%)]\tTrain Loss: 0.000510\n",
            "Train epoch: 9 [6400/60000 (11%)]\tTrain Loss: 0.000296\n",
            "Train epoch: 9 [12800/60000 (21%)]\tTrain Loss: 0.000035\n",
            "Train epoch: 9 [19200/60000 (32%)]\tTrain Loss: 0.000058\n",
            "Train epoch: 9 [25600/60000 (43%)]\tTrain Loss: 0.000063\n",
            "Train epoch: 9 [32000/60000 (53%)]\tTrain Loss: 0.000132\n",
            "Train epoch: 9 [38400/60000 (64%)]\tTrain Loss: 0.001001\n",
            "Train epoch: 9 [44800/60000 (75%)]\tTrain Loss: 0.000007\n",
            "Train epoch: 9 [51200/60000 (85%)]\tTrain Loss: 0.000007\n",
            "Train epoch: 9 [57600/60000 (96%)]\tTrain Loss: 0.003343\n",
            "\n",
            "[EPOCH: 9], \tTest Loss: 0.0301, \tTest Accuracy: 99.12 %\n",
            "\n",
            "Train epoch: 10 [0/60000 (0%)]\tTrain Loss: 0.000917\n",
            "Train epoch: 10 [6400/60000 (11%)]\tTrain Loss: 0.000329\n",
            "Train epoch: 10 [12800/60000 (21%)]\tTrain Loss: 0.000012\n",
            "Train epoch: 10 [19200/60000 (32%)]\tTrain Loss: 0.000059\n",
            "Train epoch: 10 [25600/60000 (43%)]\tTrain Loss: 0.000644\n",
            "Train epoch: 10 [32000/60000 (53%)]\tTrain Loss: 0.000001\n",
            "Train epoch: 10 [38400/60000 (64%)]\tTrain Loss: 0.003520\n",
            "Train epoch: 10 [44800/60000 (75%)]\tTrain Loss: 0.000442\n",
            "Train epoch: 10 [51200/60000 (85%)]\tTrain Loss: 0.000250\n",
            "Train epoch: 10 [57600/60000 (96%)]\tTrain Loss: 0.000151\n",
            "\n",
            "[EPOCH: 10], \tTest Loss: 0.0305, \tTest Accuracy: 99.12 %\n",
            "\n"
          ]
        }
      ]
    },
    {
      "cell_type": "markdown",
      "source": [
        "## 6. 시각화"
      ],
      "metadata": {
        "id": "o0UMX0kyxY26"
      }
    },
    {
      "cell_type": "code",
      "source": [
        "\n",
        "# 학습 결과 시각화\n",
        "epochs = range(1, EPOCHS + 1)\n",
        "\n",
        "plt.figure(figsize=(12, 6))\n",
        "\n",
        "# Train/Test Loss\n",
        "plt.subplot(1, 2, 1)\n",
        "plt.plot(epochs, train_losses, label='Train Loss')\n",
        "plt.plot(epochs, test_losses, label='Test Loss')\n",
        "plt.title('Loss over Epochs')\n",
        "plt.xlabel('Epoch')\n",
        "plt.ylabel('Loss')\n",
        "plt.legend()\n",
        "\n",
        "# Train/Test Accuracy\n",
        "plt.subplot(1, 2, 2)\n",
        "plt.plot(epochs, train_accuracies, label='Train Accuracy')\n",
        "plt.plot(epochs, test_accuracies, label='Test Accuracy')\n",
        "plt.title('Accuracy over Epochs')\n",
        "plt.xlabel('Epoch')\n",
        "plt.ylabel('Accuracy (%)')\n",
        "plt.legend()\n",
        "\n",
        "plt.tight_layout()\n",
        "plt.show()"
      ],
      "metadata": {
        "colab": {
          "base_uri": "https://localhost:8080/",
          "height": 893
        },
        "id": "nWrPZ2g0s7y2",
        "outputId": "ea9a22c9-6bcf-44eb-b836-26509ab355e7"
      },
      "execution_count": null,
      "outputs": [
        {
          "output_type": "error",
          "ename": "ValueError",
          "evalue": "x and y must have same first dimension, but have shapes (10,) and (20,)",
          "traceback": [
            "\u001b[0;31m---------------------------------------------------------------------------\u001b[0m",
            "\u001b[0;31mValueError\u001b[0m                                Traceback (most recent call last)",
            "\u001b[0;32m<ipython-input-12-5ba76da6f003>\u001b[0m in \u001b[0;36m<cell line: 8>\u001b[0;34m()\u001b[0m\n\u001b[1;32m      6\u001b[0m \u001b[0;31m# Train/Test Loss\u001b[0m\u001b[0;34m\u001b[0m\u001b[0;34m\u001b[0m\u001b[0m\n\u001b[1;32m      7\u001b[0m \u001b[0mplt\u001b[0m\u001b[0;34m.\u001b[0m\u001b[0msubplot\u001b[0m\u001b[0;34m(\u001b[0m\u001b[0;36m1\u001b[0m\u001b[0;34m,\u001b[0m \u001b[0;36m2\u001b[0m\u001b[0;34m,\u001b[0m \u001b[0;36m1\u001b[0m\u001b[0;34m)\u001b[0m\u001b[0;34m\u001b[0m\u001b[0;34m\u001b[0m\u001b[0m\n\u001b[0;32m----> 8\u001b[0;31m \u001b[0mplt\u001b[0m\u001b[0;34m.\u001b[0m\u001b[0mplot\u001b[0m\u001b[0;34m(\u001b[0m\u001b[0mepochs\u001b[0m\u001b[0;34m,\u001b[0m \u001b[0mtrain_losses\u001b[0m\u001b[0;34m,\u001b[0m \u001b[0mlabel\u001b[0m\u001b[0;34m=\u001b[0m\u001b[0;34m'Train Loss'\u001b[0m\u001b[0;34m)\u001b[0m\u001b[0;34m\u001b[0m\u001b[0;34m\u001b[0m\u001b[0m\n\u001b[0m\u001b[1;32m      9\u001b[0m \u001b[0mplt\u001b[0m\u001b[0;34m.\u001b[0m\u001b[0mplot\u001b[0m\u001b[0;34m(\u001b[0m\u001b[0mepochs\u001b[0m\u001b[0;34m,\u001b[0m \u001b[0mtest_losses\u001b[0m\u001b[0;34m,\u001b[0m \u001b[0mlabel\u001b[0m\u001b[0;34m=\u001b[0m\u001b[0;34m'Test Loss'\u001b[0m\u001b[0;34m)\u001b[0m\u001b[0;34m\u001b[0m\u001b[0;34m\u001b[0m\u001b[0m\n\u001b[1;32m     10\u001b[0m \u001b[0mplt\u001b[0m\u001b[0;34m.\u001b[0m\u001b[0mtitle\u001b[0m\u001b[0;34m(\u001b[0m\u001b[0;34m'Loss over Epochs'\u001b[0m\u001b[0;34m)\u001b[0m\u001b[0;34m\u001b[0m\u001b[0;34m\u001b[0m\u001b[0m\n",
            "\u001b[0;32m/usr/local/lib/python3.10/dist-packages/matplotlib/pyplot.py\u001b[0m in \u001b[0;36mplot\u001b[0;34m(scalex, scaley, data, *args, **kwargs)\u001b[0m\n\u001b[1;32m   3576\u001b[0m     \u001b[0;34m**\u001b[0m\u001b[0mkwargs\u001b[0m\u001b[0;34m,\u001b[0m\u001b[0;34m\u001b[0m\u001b[0;34m\u001b[0m\u001b[0m\n\u001b[1;32m   3577\u001b[0m ) -> list[Line2D]:\n\u001b[0;32m-> 3578\u001b[0;31m     return gca().plot(\n\u001b[0m\u001b[1;32m   3579\u001b[0m         \u001b[0;34m*\u001b[0m\u001b[0margs\u001b[0m\u001b[0;34m,\u001b[0m\u001b[0;34m\u001b[0m\u001b[0;34m\u001b[0m\u001b[0m\n\u001b[1;32m   3580\u001b[0m         \u001b[0mscalex\u001b[0m\u001b[0;34m=\u001b[0m\u001b[0mscalex\u001b[0m\u001b[0;34m,\u001b[0m\u001b[0;34m\u001b[0m\u001b[0;34m\u001b[0m\u001b[0m\n",
            "\u001b[0;32m/usr/local/lib/python3.10/dist-packages/matplotlib/axes/_axes.py\u001b[0m in \u001b[0;36mplot\u001b[0;34m(self, scalex, scaley, data, *args, **kwargs)\u001b[0m\n\u001b[1;32m   1719\u001b[0m         \"\"\"\n\u001b[1;32m   1720\u001b[0m         \u001b[0mkwargs\u001b[0m \u001b[0;34m=\u001b[0m \u001b[0mcbook\u001b[0m\u001b[0;34m.\u001b[0m\u001b[0mnormalize_kwargs\u001b[0m\u001b[0;34m(\u001b[0m\u001b[0mkwargs\u001b[0m\u001b[0;34m,\u001b[0m \u001b[0mmlines\u001b[0m\u001b[0;34m.\u001b[0m\u001b[0mLine2D\u001b[0m\u001b[0;34m)\u001b[0m\u001b[0;34m\u001b[0m\u001b[0;34m\u001b[0m\u001b[0m\n\u001b[0;32m-> 1721\u001b[0;31m         \u001b[0mlines\u001b[0m \u001b[0;34m=\u001b[0m \u001b[0;34m[\u001b[0m\u001b[0;34m*\u001b[0m\u001b[0mself\u001b[0m\u001b[0;34m.\u001b[0m\u001b[0m_get_lines\u001b[0m\u001b[0;34m(\u001b[0m\u001b[0mself\u001b[0m\u001b[0;34m,\u001b[0m \u001b[0;34m*\u001b[0m\u001b[0margs\u001b[0m\u001b[0;34m,\u001b[0m \u001b[0mdata\u001b[0m\u001b[0;34m=\u001b[0m\u001b[0mdata\u001b[0m\u001b[0;34m,\u001b[0m \u001b[0;34m**\u001b[0m\u001b[0mkwargs\u001b[0m\u001b[0;34m)\u001b[0m\u001b[0;34m]\u001b[0m\u001b[0;34m\u001b[0m\u001b[0;34m\u001b[0m\u001b[0m\n\u001b[0m\u001b[1;32m   1722\u001b[0m         \u001b[0;32mfor\u001b[0m \u001b[0mline\u001b[0m \u001b[0;32min\u001b[0m \u001b[0mlines\u001b[0m\u001b[0;34m:\u001b[0m\u001b[0;34m\u001b[0m\u001b[0;34m\u001b[0m\u001b[0m\n\u001b[1;32m   1723\u001b[0m             \u001b[0mself\u001b[0m\u001b[0;34m.\u001b[0m\u001b[0madd_line\u001b[0m\u001b[0;34m(\u001b[0m\u001b[0mline\u001b[0m\u001b[0;34m)\u001b[0m\u001b[0;34m\u001b[0m\u001b[0;34m\u001b[0m\u001b[0m\n",
            "\u001b[0;32m/usr/local/lib/python3.10/dist-packages/matplotlib/axes/_base.py\u001b[0m in \u001b[0;36m__call__\u001b[0;34m(self, axes, data, *args, **kwargs)\u001b[0m\n\u001b[1;32m    301\u001b[0m                 \u001b[0mthis\u001b[0m \u001b[0;34m+=\u001b[0m \u001b[0margs\u001b[0m\u001b[0;34m[\u001b[0m\u001b[0;36m0\u001b[0m\u001b[0;34m]\u001b[0m\u001b[0;34m,\u001b[0m\u001b[0;34m\u001b[0m\u001b[0;34m\u001b[0m\u001b[0m\n\u001b[1;32m    302\u001b[0m                 \u001b[0margs\u001b[0m \u001b[0;34m=\u001b[0m \u001b[0margs\u001b[0m\u001b[0;34m[\u001b[0m\u001b[0;36m1\u001b[0m\u001b[0;34m:\u001b[0m\u001b[0;34m]\u001b[0m\u001b[0;34m\u001b[0m\u001b[0;34m\u001b[0m\u001b[0m\n\u001b[0;32m--> 303\u001b[0;31m             yield from self._plot_args(\n\u001b[0m\u001b[1;32m    304\u001b[0m                 axes, this, kwargs, ambiguous_fmt_datakey=ambiguous_fmt_datakey)\n\u001b[1;32m    305\u001b[0m \u001b[0;34m\u001b[0m\u001b[0m\n",
            "\u001b[0;32m/usr/local/lib/python3.10/dist-packages/matplotlib/axes/_base.py\u001b[0m in \u001b[0;36m_plot_args\u001b[0;34m(self, axes, tup, kwargs, return_kwargs, ambiguous_fmt_datakey)\u001b[0m\n\u001b[1;32m    497\u001b[0m \u001b[0;34m\u001b[0m\u001b[0m\n\u001b[1;32m    498\u001b[0m         \u001b[0;32mif\u001b[0m \u001b[0mx\u001b[0m\u001b[0;34m.\u001b[0m\u001b[0mshape\u001b[0m\u001b[0;34m[\u001b[0m\u001b[0;36m0\u001b[0m\u001b[0;34m]\u001b[0m \u001b[0;34m!=\u001b[0m \u001b[0my\u001b[0m\u001b[0;34m.\u001b[0m\u001b[0mshape\u001b[0m\u001b[0;34m[\u001b[0m\u001b[0;36m0\u001b[0m\u001b[0;34m]\u001b[0m\u001b[0;34m:\u001b[0m\u001b[0;34m\u001b[0m\u001b[0;34m\u001b[0m\u001b[0m\n\u001b[0;32m--> 499\u001b[0;31m             raise ValueError(f\"x and y must have same first dimension, but \"\n\u001b[0m\u001b[1;32m    500\u001b[0m                              f\"have shapes {x.shape} and {y.shape}\")\n\u001b[1;32m    501\u001b[0m         \u001b[0;32mif\u001b[0m \u001b[0mx\u001b[0m\u001b[0;34m.\u001b[0m\u001b[0mndim\u001b[0m \u001b[0;34m>\u001b[0m \u001b[0;36m2\u001b[0m \u001b[0;32mor\u001b[0m \u001b[0my\u001b[0m\u001b[0;34m.\u001b[0m\u001b[0mndim\u001b[0m \u001b[0;34m>\u001b[0m \u001b[0;36m2\u001b[0m\u001b[0;34m:\u001b[0m\u001b[0;34m\u001b[0m\u001b[0;34m\u001b[0m\u001b[0m\n",
            "\u001b[0;31mValueError\u001b[0m: x and y must have same first dimension, but have shapes (10,) and (20,)"
          ]
        },
        {
          "output_type": "display_data",
          "data": {
            "text/plain": [
              "<Figure size 1200x600 with 1 Axes>"
            ],
            "image/png": "[encoded data removed]"
          },
          "metadata": {}
        }
      ]
    },
    {
      "cell_type": "code",
      "source": [],
      "metadata": {
        "id": "qrBvIZJ_xbX6"
      },
      "execution_count": null,
      "outputs": []
    }
  ]
}